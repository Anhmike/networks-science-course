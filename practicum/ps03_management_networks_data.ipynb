{
 "cells": [
  {
   "cell_type": "markdown",
   "metadata": {},
   "source": [
    "# Practice Session 03: Management of networks data"
   ]
  },
  {
   "cell_type": "markdown",
   "metadata": {},
   "source": [
    "In this session we will study an application of complex networks analysis to medicine. We will start with the *diseasome*, a bi-partite network connecting all known genetic diseases with genes whose mutations are implicated in that disease [1].\n",
    "\n",
    "The initial dataset `disease-genes.csv` in the [data/](https://github.com/chatox/networks-science-course/tree/master/practicum/data) directory contains the following columns:\n",
    "\n",
    "1. A disorder *ID*\n",
    "2. A disorder *Name*\n",
    "3. A comma-separated list of *Genes*\n",
    "4. The *OMIM ID* (Online Mendelian Inheritance in Man) of this disorder\n",
    "5. The location in the *Chromosome*\n",
    "6. A disorder *Class* indicating the physiological system that is affected\n",
    "\n",
    "[1] Goh, K. I., Cusick, M. E., Valle, D., Childs, B., Vidal, M., & Barabási, A. L. (2007). [The human disease network](http://www.pnas.org/content/104/21/8685). Proceedings of the National Academy of Sciences, 104(21), 8685-8690.\n",
    "\n",
    "<font size=\"-1\" color=\"gray\">(Remove this cell when delivering.)</font>"
   ]
  },
  {
   "cell_type": "markdown",
   "metadata": {},
   "source": [
    "Author: <font color=\"blue\">Your name here</font>\n",
    "\n",
    "E-mail: <font color=\"blue\">Your e-mail here</font>\n",
    "\n",
    "Date: <font color=\"blue\">The current date here</font>"
   ]
  },
  {
   "cell_type": "markdown",
   "metadata": {},
   "source": [
    "# 0. Code snippets you may need\n",
    "\n",
    "## 0.1. Reading a CSV file\n",
    "\n",
    "FILENAME should be a string containing the name of the file you're opening. The comma is the field delimiter, and the quote character is the character that is used to protected values that contain commas.\n",
    "\n",
    "```python\n",
    "disorders = []\n",
    "with io.open(FILENAME) as file:\n",
    "    reader = csv.DictReader(file, delimiter=',', quotechar='\"')\n",
    "    for row in reader:\n",
    "        disorders.append(row)\n",
    "```\n",
    "\n",
    "Now the list `disorders` contains a list of dictionaries. Each dictionary is a disease.\n",
    "\n",
    "Remember to `import io` and `import csv` for this code to work.\n",
    "\n",
    "## 0.2. Splitting a string and iterating on its parts\n",
    "\n",
    "If you want to split a string into pieces, you can use the following. Suppose the variables `genes` contains a comma-separated list such as `CYP17A1, CYP17, P450C17`:\n",
    "\n",
    "```python\n",
    "gene_list = genes.split(\",\")\n",
    "for gene in gene_list:\n",
    "    gene = gene.strip()\n",
    "    ...\n",
    "```\n",
    "\n",
    "The `str.strip()` method removes white space and newlines from the beginning and end of the string, so it's equivalent to `str.lstrip().rstrip()`.\n",
    "\n",
    "You can also do this in one line of code, using the `map(f, v)` function, which results the result of applying function `f` to each element of list `v`:\n",
    "\n",
    "```python\n",
    "gene_list = list(map(str.strip, disorder[\"Genes\"].split(',')))\n",
    "```\n",
    "\n",
    "## 0.3. Producing the intersection and union of lists\n",
    "\n",
    "There are many ways of intersecting two lists in Python, one of the simplest ones is to convert them to sets, and then computing the set intersection using the built-in `&` operator:\n",
    "\n",
    "```python\n",
    "def intersection(list1, list2):\n",
    "    return(list(set(list1) & set(list2)))\n",
    "```\n",
    "\n",
    "If you want to test if two lists have elements in common, you can check the length of its intersection (there are other ways). Remember the length of a list is obtained with `len()`:\n",
    "\n",
    "```python\n",
    "if len(intersection(list1,list2)) > 0:\n",
    "    ...\n",
    "```\n",
    "\n",
    "A list `c` that is the union of two lists `a,b` can be computed in Python with `c = list(set(a) | set(b))`.\n",
    "\n",
    "## 0.4. Creating a file\n",
    "\n",
    "We will create tab-separated files to avoid confusing Cytoscape, we will also include a header with the names of the columns.\n",
    "\n",
    "```python\n",
    "with io.open(FILEOUT_NAME, \"w\") as fileout:\n",
    "    writer = csv.writer(fileout, delimiter='\\t', quotechar='\"')\n",
    "    writer.writerow([\"name1\", \"name2\", \"name3\"])\n",
    "    for disorder in disorders:\n",
    "        ...\n",
    "        writer.writerow([value1, value2, value3])\n",
    "```\n",
    "\n",
    "Remember to create a variable `FILEOUT_NAME` with the name of the output file you want to create. Create clean code: define the file name and then use it, don't replace `FILEOUT_NAME` by a string constant inside the call to `open()`.\n",
    "\n",
    "<font size=\"-1\" color=\"gray\">(Remove this cell when delivering.)</font>"
   ]
  },
  {
   "cell_type": "markdown",
   "metadata": {},
   "source": [
    "# 1. The diseasome bi-partite graph"
   ]
  },
  {
   "cell_type": "markdown",
   "metadata": {},
   "source": [
    "## Examine your input file\n",
    "\n",
    "Before you begin, we highly recommend you to:\n",
    "\n",
    "1. Copy the file ``disease-genes.csv`` to a local ``data/`` subdirectory in your practice folder \n",
    "2. Open this file in a Spreadsheet program and look at it\n",
    "\n",
    "\n",
    "## Create a ``diseasome.csv`` file\n",
    "\n",
    "Create tab-separated file named ``diseasome.csv`` containing three columns: ``disorder``, ``class``, and ``gene``. If a disorder involves *k* genes, there should be *k* rows starting with that disorder name, one for each gene. \n",
    "\n",
    "    disorder          class          gene\n",
    "    Alpers syndrome   Neurological   POLG\n",
    "    Alpers syndrome   Neurological   POLG1\n",
    "    Hepatic adenoma   Cancer         TCF1\n",
    "    Hepatic adenoma   Cancer         HNF1A\n",
    "    Hepatic adenoma   Cancer         MODY3\n",
    "    ...\n",
    "    \n",
    "<font size=\"-1\" color=\"gray\">(Remove this cell when delivering.)</font>"
   ]
  },
  {
   "cell_type": "code",
   "execution_count": 1,
   "metadata": {},
   "outputs": [],
   "source": [
    "import io\n",
    "import csv"
   ]
  },
  {
   "cell_type": "code",
   "execution_count": 2,
   "metadata": {},
   "outputs": [],
   "source": [
    "INPUT_FILENAME = \"disease-genes.csv\"\n",
    "OUTPUT_DISEASOME_FILENAME = \"diseasome.csv\""
   ]
  },
  {
   "cell_type": "markdown",
   "metadata": {},
   "source": [
    "<font size=\"+1\" color=\"red\">Replace this cell with your code to create the diseasome.csv file; your code can span multiple cells</font>"
   ]
  },
  {
   "cell_type": "markdown",
   "metadata": {},
   "source": [
    "## Examine the file you generated\n",
    "\n",
    "Open the ``diseasome.csv`` file in a spreadsheet program to make sure you generated it correctly.\n",
    "\n",
    "## Import this file in Cytoscape\n",
    "\n",
    "Remember these files are imported with ``File > Import > Network > File ...`` and you must select \"tab\" as the separator in the advanced options. Then, you have to select disorder as a ``Source Node``, gene as a ``Target Node`` and class as a ``Source Node Attribute``.\n",
    "\n",
    "## Draw this graph\n",
    "\n",
    "Select **the largest connected component** of the graph (maintain \"shift\" pressed while you draw a rectangle around it). Then, create a new graph with the selection (``File > New > Network > From selected nodes, all edges``).\n",
    "\n",
    "Draw this sub-graph with ellipses/ovals as nodes, and color the nodes according to the class of disease (Style/Node, Fill Color on Column \"class\", Discrete Mapping). Do not color all of them, just a few classes. \n",
    "\n",
    "<font size=\"-1\" color=\"gray\">(Remove this cell when delivering.)</font>"
   ]
  },
  {
   "cell_type": "markdown",
   "metadata": {},
   "source": [
    "<font size=\"+1\" color=\"red\">Save the image as diseasome.png and replace this cell with \\!\\[Diseasome graph\\]\\(diseasome.png\\) to display your graph.</font>"
   ]
  },
  {
   "cell_type": "markdown",
   "metadata": {},
   "source": [
    "<font size=\"+1\" color=\"red\">Replace this cell by a brief commentary, in your own words, of what you see in this graph. What size was the largest component in terms of percentage of nodes of the graph? What is the dominant type of disease in the largest component? What interesting observations can you make about this graph?</font>"
   ]
  },
  {
   "cell_type": "markdown",
   "metadata": {},
   "source": [
    "# 2. The disease-disease graph"
   ]
  },
  {
   "cell_type": "markdown",
   "metadata": {},
   "source": [
    "The bi-partite diseasome is hard to visualize as it mixes diseases and genes. We will now try to visualize only the connections between diseases.\n",
    "\n",
    "## Create a disease-disease.csv file\n",
    "\n",
    "The following code lists all the diseases that have at least one gene in common:\n",
    "\n",
    "```python\n",
    "for disorder1 in disorders:\n",
    "    gene_list_1 = ...\n",
    "    for disorder2 in disorders:\n",
    "        if disorder2[\"Name\"] != disorder1[\"Name\"]:\n",
    "            gene_list_2 = ...\n",
    "            common_genes = intersection(gene_list_1, gene_list_2)\n",
    "            if len(common_genes) > 0:\n",
    "                print(\"Diseases '%s' and '%s' have genes in common\" % (disorder1[\"Name\"], disorder2[\"Name\"]))\n",
    "```\n",
    "\n",
    "Modify this code to generate a tab-separated file like this one:\n",
    "\n",
    "    disease1    disease2   ngenes1 ngenes2  class1     class2\n",
    "    17-alpha... 17,20...    3      3        Endocrine  Endocrine\n",
    "    3-methyl... Optic ...   2      2        Metabolic  Ophthamological\n",
    "    Aarskog...  Mental...   3      3        multiple   Neurological\n",
    "    ...\n",
    "\n",
    "Where `ngenes1` and `ngenes2` correspond to `len(gene_list_1)` and `len(gene_list_2)` respectively.\n",
    "\n",
    "If you want to avoid having double edges, change the condition `disorder1[\"Name\"] != disorder2[\"Name\"]` from `!=` (different) to `>` (greater than).\n",
    "\n",
    "<font size=\"-1\" color=\"gray\">(Remove this cell when delivering.)</font>"
   ]
  },
  {
   "cell_type": "code",
   "execution_count": 4,
   "metadata": {},
   "outputs": [],
   "source": [
    "OUTPUT_DISEASEDISEASE_FILENAME = \"disease-disease.csv\""
   ]
  },
  {
   "cell_type": "markdown",
   "metadata": {},
   "source": [
    "<font size=\"+1\" color=\"red\">Replace this cell with your code to create the disease-disease.csv file; your code can span multiple cells</font>"
   ]
  },
  {
   "cell_type": "markdown",
   "metadata": {},
   "source": [
    "## Examine the file you generated\n",
    "\n",
    "Open the ``disease-disease.csv`` file in a spreadsheet program to make sure you generated it correctly.\n",
    "\n",
    "## Import this file into Cytoscape\n",
    "\n",
    "To import this file remember to select the advanced options of the import, and select tab (and only tab) as the separator.\n",
    "\n",
    "Now, for the columns you have to indicate their role, and rename the attribute columns so that Cytoscape knows when they are the same attribute.\n",
    "\n",
    "1. `disease1`: Source Node\n",
    "2. `disease2`: Target Node\n",
    "3. `ngenes1`: Source Node Attribute - rename to \"num_genes\"\n",
    "4. `ngenes2`: Target Node Attribute - rename to \"num_genes\"\n",
    "5. `class1`: Source Node Attribute - rename to \"class\"\n",
    "6. `class2`: Target Node Attribute - rename to \"class\"\n",
    "\n",
    "**Warning:** If the network takes a long time to load or does not load in Cytoscape, it is very likely that you made a mistake during the generation of the graph. Double-check the output of your code to make sure that every pair of diseases you are including in the CSV file actually shares at least one gene.\n",
    "\n",
    "## Style and add simple annotations\n",
    "\n",
    "Use ellipses/ovals as node shapes, with sizes representing the number of genes associated to each disease.\n",
    "\n",
    "Color the nodes by default gray, and with colors representing the class of diseases (leave \"Unclassified\" and \"multiple\" as gray). Note that if you right-click on \"Mapping type\" when creating a discrete mapping, you can use an automatic mapping generator to start with.\n",
    "\n",
    "Add text annotations (secondary button > add > text annotation) to the first, second, and third largest connected component, with your observations (e.g., \"The second largest component is dominated by diseases of type x\"). Place the annotations next to the components they refer to (secondary button > edit > move annotation).\n",
    "\n",
    "Include the disease-disease graph with a color legend.\n",
    "\n",
    "<font size=\"-1\" color=\"gray\">(Remove this cell when delivering.)</font>"
   ]
  },
  {
   "cell_type": "markdown",
   "metadata": {},
   "source": [
    "<font size=\"+1\" color=\"red\">Save the image as disease-disease.png and replace this cell with \\!\\[Diseases graph\\]\\(disease-disease.png\\) to display your graph.</font>"
   ]
  },
  {
   "cell_type": "markdown",
   "metadata": {},
   "source": [
    "<font size=\"+1\" color=\"red\">Replace this cell by a brief commentary, in your own words, of what you see in this graph. What interesting observations can you make about this graph?</font>"
   ]
  },
  {
   "cell_type": "markdown",
   "metadata": {},
   "source": [
    "# DELIVER (individually)\n",
    "\n",
    "Read the section on \"delivering your code\" in the [course evaluation guidelines](https://github.com/chatox/networks-science-course/blob/master/upf/upf-evaluation.md).\n",
    "\n",
    "Deliver a zip file containing:\n",
    "\n",
    "* This notebook\n",
    "* The ``diseasome.csv`` and ``diseasome.png`` files\n",
    "* The ``disease-disease.csv`` and ``disease-disease.png`` files\n",
    "\n",
    "## Extra points available\n",
    "\n",
    "For more learning and extra points, group different variants of a disease, which are indicated by the presence of a comma (e.g., \"Epilepsy, progressive myoclonic 2B\" would be just \"Epilepsy\"). Note that there should be a single node per disease (i.e., just one \"Epilepsy\") and this node should contain the union of all genes of the different variants of this disease. Hence, two diseases will be connected if any of their variants have a gene in common.\n",
    "\n",
    "**Note:** if you go for the extra points, add ``<font size=\"+2\" color=\"blue\">Additional results: diseases are grouped</font>`` at the top of your notebook.\n",
    "\n",
    "<font size=\"-1\" color=\"gray\">(Remove this cell when delivering.)</font>"
   ]
  },
  {
   "cell_type": "markdown",
   "metadata": {},
   "source": [
    "<font size=\"+2\" color=\"#003300\">I hereby declare that, except for the code provided by the course instructors, all of my code, report, and figures were produced by myself.</font>\n"
   ]
  }
 ],
 "metadata": {
  "kernelspec": {
   "display_name": "Python 3",
   "language": "python",
   "name": "python3"
  },
  "language_info": {
   "codemirror_mode": {
    "name": "ipython",
    "version": 3
   },
   "file_extension": ".py",
   "mimetype": "text/x-python",
   "name": "python",
   "nbconvert_exporter": "python",
   "pygments_lexer": "ipython3",
   "version": "3.6.9"
  }
 },
 "nbformat": 4,
 "nbformat_minor": 2
}
